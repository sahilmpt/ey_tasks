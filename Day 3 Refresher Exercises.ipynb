{
 "cells": [
  {
   "cell_type": "markdown",
   "metadata": {},
   "source": [
    "Task : \n",
    "\n",
    "Write a function which takes in multiple names as a list. The function should return the pair of names in Capital and the length of the name. For example\n",
    "\n",
    "m\n",
    "Input : [‘Ravi’, ‘Sanjeev’, ‘John’]\n",
    "\n",
    "Output : [(‘RAVI’, 4), (‘SANJEEV’, 7), (‘JOHN’, 4)]\n",
    "\n",
    "\n",
    "Write a function to get only the numbers in a sentence like ‘In 1984 there were 13 instances of a protest with over 1000 people attending’\n",
    "\n",
    "\n",
    "Final Task \n",
    "\n",
    "Let us build some application\n",
    "\n",
    "Assume you are asked to build an inventory system of grocery items at a grocery store. \n",
    "\n",
    "Assuming your store can have some 20 unique items with unique ID's create a dictionary of Item ID vs item details such as MRP, Quantity, Size etc\n",
    "\n",
    "At any time we need to keep a count of the items in the store. \n",
    "\n",
    "Build a menu where you can show different items along with its details. Allow the user\n",
    "to purchase any item and place an order. Once the user places an order ensure that you have adequate \n",
    "quantity of items and if yes then create a bill of purchased items and write them to a file against an order ID. Provide him another chance to purchase the remaining items until he exits\n"
   ]
  },
  {
   "cell_type": "code",
   "execution_count": 1,
   "metadata": {},
   "outputs": [
    {
     "data": {
      "text/plain": [
       "[('Ravi', 4), ('Sanjeev', 7), ('John', 4)]"
      ]
     },
     "execution_count": 1,
     "metadata": {},
     "output_type": "execute_result"
    }
   ],
   "source": [
    "# Task 1\n",
    "name_list  = ['Ravi', 'Sanjeev', 'John']\n",
    "\n",
    "[(name,len(name)) for name in name_list]"
   ]
  },
  {
   "cell_type": "code",
   "execution_count": 26,
   "metadata": {},
   "outputs": [
    {
     "data": {
      "text/plain": [
       "[1984, 13, 1000]"
      ]
     },
     "execution_count": 26,
     "metadata": {},
     "output_type": "execute_result"
    }
   ],
   "source": [
    "# Task 2\n",
    "sent = 'In 1984 there were 13 instances of a protest with over 1000 people attending'\n",
    "\n",
    "[int(word) for word in sent.split(\" \") if word.isnumeric()]"
   ]
  },
  {
   "cell_type": "code",
   "execution_count": 27,
   "metadata": {},
   "outputs": [],
   "source": [
    "# Task 3\n",
    "\n",
    "unique_items = {}\n",
    "order_id = 0\n",
    "order_dict = {}\n",
    "mrp =109\n",
    "qty = 100\n",
    "size = 10\n",
    "for id_no in range(20):\n",
    "    \n",
    "    unique_items[id_no] = {\n",
    "        \n",
    "        'MRP': mrp, \n",
    "        'Quantity': qty,\n",
    "        'Size': size\n",
    "    }\n",
    "    mrp+=109\n",
    "    qty+= 100\n",
    "    size+= 10\n",
    "# unique_items"
   ]
  },
  {
   "cell_type": "code",
   "execution_count": 28,
   "metadata": {},
   "outputs": [],
   "source": [
    "def selection():\n",
    "    selected_id = int(input(\"Enter the ID of the product from the above    :   \"))\n",
    "    return selected_id\n",
    "\n",
    "def order_creation(unique_items,selected_id,order_id):\n",
    "    size = unique_items[selected_id]['Size']\n",
    "    if size:\n",
    "        order_dict[order_id] = {\n",
    "            \"Item_ID\":selected_id,\n",
    "            \"MRP\":unique_items[selected_id][\"MRP\"]\n",
    "        }\n",
    "                                \n",
    "        unique_items[selected_id]['Size']-=1\n",
    "        order_id+= 1\n",
    "        print(order_dict)#unique_items[selected_id])\n",
    "        \n",
    "    return unique_items,order_dict,order_id\n"
   ]
  },
  {
   "cell_type": "code",
   "execution_count": 29,
   "metadata": {},
   "outputs": [
    {
     "data": {
      "text/plain": [
       "{0: {'MRP': 109, 'Quantity': 100, 'Size': 10},\n",
       " 1: {'MRP': 218, 'Quantity': 200, 'Size': 20},\n",
       " 2: {'MRP': 327, 'Quantity': 300, 'Size': 30},\n",
       " 3: {'MRP': 436, 'Quantity': 400, 'Size': 40},\n",
       " 4: {'MRP': 545, 'Quantity': 500, 'Size': 50},\n",
       " 5: {'MRP': 654, 'Quantity': 600, 'Size': 60},\n",
       " 6: {'MRP': 763, 'Quantity': 700, 'Size': 70},\n",
       " 7: {'MRP': 872, 'Quantity': 800, 'Size': 80},\n",
       " 8: {'MRP': 981, 'Quantity': 900, 'Size': 90},\n",
       " 9: {'MRP': 1090, 'Quantity': 1000, 'Size': 100},\n",
       " 10: {'MRP': 1199, 'Quantity': 1100, 'Size': 110},\n",
       " 11: {'MRP': 1308, 'Quantity': 1200, 'Size': 120},\n",
       " 12: {'MRP': 1417, 'Quantity': 1300, 'Size': 130},\n",
       " 13: {'MRP': 1526, 'Quantity': 1400, 'Size': 140},\n",
       " 14: {'MRP': 1635, 'Quantity': 1500, 'Size': 150},\n",
       " 15: {'MRP': 1744, 'Quantity': 1600, 'Size': 160},\n",
       " 16: {'MRP': 1853, 'Quantity': 1700, 'Size': 170},\n",
       " 17: {'MRP': 1962, 'Quantity': 1800, 'Size': 180},\n",
       " 18: {'MRP': 2071, 'Quantity': 1900, 'Size': 190},\n",
       " 19: {'MRP': 2180, 'Quantity': 2000, 'Size': 200}}"
      ]
     },
     "metadata": {},
     "output_type": "display_data"
    },
    {
     "name": "stdin",
     "output_type": "stream",
     "text": [
      "Enter the ID of the product from the above    :    0\n"
     ]
    },
    {
     "name": "stdout",
     "output_type": "stream",
     "text": [
      "{0: {'Item_ID': 0, 'MRP': 109}}\n"
     ]
    },
    {
     "name": "stdin",
     "output_type": "stream",
     "text": [
      "Do you want to buy more, press 1 for buy or 0 for order creation 1\n",
      "Enter the ID of the product from the above    :    2\n"
     ]
    },
    {
     "name": "stdout",
     "output_type": "stream",
     "text": [
      "{0: {'Item_ID': 0, 'MRP': 109}, 1: {'Item_ID': 2, 'MRP': 327}}\n"
     ]
    },
    {
     "name": "stdin",
     "output_type": "stream",
     "text": [
      "Do you want to buy more, press 1 for buy or 0 for order creation 0\n"
     ]
    },
    {
     "data": {
      "text/plain": [
       "{0: {'Item_ID': 0, 'MRP': 109}, 1: {'Item_ID': 2, 'MRP': 327}}"
      ]
     },
     "execution_count": 29,
     "metadata": {},
     "output_type": "execute_result"
    }
   ],
   "source": [
    "\n",
    "order  = True\n",
    "display(unique_items)\n",
    "while order:\n",
    "    selected_id = selection()\n",
    "    unique_items,order_dict,order_id = order_creation(unique_items,selected_id,order_id) \n",
    "    order_dict,order_id\n",
    "    \n",
    "    selection_continue = int(input(\"Do you want to buy more, press 1 for buy or 0 for order creation\"))\n",
    "    if selection_continue ==1:\n",
    "        order = True\n",
    "    else:\n",
    "        order = False\n",
    "\n",
    "order_dict"
   ]
  },
  {
   "cell_type": "code",
   "execution_count": null,
   "metadata": {},
   "outputs": [],
   "source": []
  },
  {
   "cell_type": "code",
   "execution_count": null,
   "metadata": {},
   "outputs": [],
   "source": []
  }
 ],
 "metadata": {
  "kernelspec": {
   "display_name": "Python 3",
   "language": "python",
   "name": "python3"
  },
  "language_info": {
   "codemirror_mode": {
    "name": "ipython",
    "version": 3
   },
   "file_extension": ".py",
   "mimetype": "text/x-python",
   "name": "python",
   "nbconvert_exporter": "python",
   "pygments_lexer": "ipython3",
   "version": "3.7.6"
  }
 },
 "nbformat": 4,
 "nbformat_minor": 4
}
