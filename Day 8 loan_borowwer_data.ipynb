{
 "cells": [
  {
   "cell_type": "code",
   "execution_count": 1,
   "id": "49d1c2ef-83f8-4e5e-a08c-78457e396242",
   "metadata": {},
   "outputs": [
    {
     "data": {
      "text/html": [
       "<div>\n",
       "<style scoped>\n",
       "    .dataframe tbody tr th:only-of-type {\n",
       "        vertical-align: middle;\n",
       "    }\n",
       "\n",
       "    .dataframe tbody tr th {\n",
       "        vertical-align: top;\n",
       "    }\n",
       "\n",
       "    .dataframe thead th {\n",
       "        text-align: right;\n",
       "    }\n",
       "</style>\n",
       "<table border=\"1\" class=\"dataframe\">\n",
       "  <thead>\n",
       "    <tr style=\"text-align: right;\">\n",
       "      <th></th>\n",
       "      <th>credit.policy</th>\n",
       "      <th>purpose</th>\n",
       "      <th>int.rate</th>\n",
       "      <th>installment</th>\n",
       "      <th>log.annual.inc</th>\n",
       "      <th>dti</th>\n",
       "      <th>fico</th>\n",
       "      <th>days.with.cr.line</th>\n",
       "      <th>revol.bal</th>\n",
       "      <th>revol.util</th>\n",
       "      <th>inq.last.6mths</th>\n",
       "      <th>delinq.2yrs</th>\n",
       "      <th>pub.rec</th>\n",
       "      <th>not.fully.paid</th>\n",
       "    </tr>\n",
       "  </thead>\n",
       "  <tbody>\n",
       "    <tr>\n",
       "      <th>0</th>\n",
       "      <td>1</td>\n",
       "      <td>debt_consolidation</td>\n",
       "      <td>0.1189</td>\n",
       "      <td>829.10</td>\n",
       "      <td>11.350407</td>\n",
       "      <td>19.48</td>\n",
       "      <td>737</td>\n",
       "      <td>5639.958333</td>\n",
       "      <td>28854</td>\n",
       "      <td>52.1</td>\n",
       "      <td>0</td>\n",
       "      <td>0</td>\n",
       "      <td>0</td>\n",
       "      <td>0</td>\n",
       "    </tr>\n",
       "    <tr>\n",
       "      <th>1</th>\n",
       "      <td>1</td>\n",
       "      <td>credit_card</td>\n",
       "      <td>0.1071</td>\n",
       "      <td>228.22</td>\n",
       "      <td>11.082143</td>\n",
       "      <td>14.29</td>\n",
       "      <td>707</td>\n",
       "      <td>2760.000000</td>\n",
       "      <td>33623</td>\n",
       "      <td>76.7</td>\n",
       "      <td>0</td>\n",
       "      <td>0</td>\n",
       "      <td>0</td>\n",
       "      <td>0</td>\n",
       "    </tr>\n",
       "    <tr>\n",
       "      <th>2</th>\n",
       "      <td>1</td>\n",
       "      <td>debt_consolidation</td>\n",
       "      <td>0.1357</td>\n",
       "      <td>366.86</td>\n",
       "      <td>10.373491</td>\n",
       "      <td>11.63</td>\n",
       "      <td>682</td>\n",
       "      <td>4710.000000</td>\n",
       "      <td>3511</td>\n",
       "      <td>25.6</td>\n",
       "      <td>1</td>\n",
       "      <td>0</td>\n",
       "      <td>0</td>\n",
       "      <td>0</td>\n",
       "    </tr>\n",
       "    <tr>\n",
       "      <th>3</th>\n",
       "      <td>1</td>\n",
       "      <td>debt_consolidation</td>\n",
       "      <td>0.1008</td>\n",
       "      <td>162.34</td>\n",
       "      <td>11.350407</td>\n",
       "      <td>8.10</td>\n",
       "      <td>712</td>\n",
       "      <td>2699.958333</td>\n",
       "      <td>33667</td>\n",
       "      <td>73.2</td>\n",
       "      <td>1</td>\n",
       "      <td>0</td>\n",
       "      <td>0</td>\n",
       "      <td>0</td>\n",
       "    </tr>\n",
       "    <tr>\n",
       "      <th>4</th>\n",
       "      <td>1</td>\n",
       "      <td>credit_card</td>\n",
       "      <td>0.1426</td>\n",
       "      <td>102.92</td>\n",
       "      <td>11.299732</td>\n",
       "      <td>14.97</td>\n",
       "      <td>667</td>\n",
       "      <td>4066.000000</td>\n",
       "      <td>4740</td>\n",
       "      <td>39.5</td>\n",
       "      <td>0</td>\n",
       "      <td>1</td>\n",
       "      <td>0</td>\n",
       "      <td>0</td>\n",
       "    </tr>\n",
       "  </tbody>\n",
       "</table>\n",
       "</div>"
      ],
      "text/plain": [
       "   credit.policy             purpose  int.rate  installment  log.annual.inc  \\\n",
       "0              1  debt_consolidation    0.1189       829.10       11.350407   \n",
       "1              1         credit_card    0.1071       228.22       11.082143   \n",
       "2              1  debt_consolidation    0.1357       366.86       10.373491   \n",
       "3              1  debt_consolidation    0.1008       162.34       11.350407   \n",
       "4              1         credit_card    0.1426       102.92       11.299732   \n",
       "\n",
       "     dti  fico  days.with.cr.line  revol.bal  revol.util  inq.last.6mths  \\\n",
       "0  19.48   737        5639.958333      28854        52.1               0   \n",
       "1  14.29   707        2760.000000      33623        76.7               0   \n",
       "2  11.63   682        4710.000000       3511        25.6               1   \n",
       "3   8.10   712        2699.958333      33667        73.2               1   \n",
       "4  14.97   667        4066.000000       4740        39.5               0   \n",
       "\n",
       "   delinq.2yrs  pub.rec  not.fully.paid  \n",
       "0            0        0               0  \n",
       "1            0        0               0  \n",
       "2            0        0               0  \n",
       "3            0        0               0  \n",
       "4            1        0               0  "
      ]
     },
     "execution_count": 1,
     "metadata": {},
     "output_type": "execute_result"
    }
   ],
   "source": [
    "#Bagged Decision Trees for Classification\n",
    "import pandas\n",
    "from sklearn import model_selection\n",
    "from sklearn.ensemble import BaggingClassifier\n",
    "from sklearn.tree import DecisionTreeClassifier\n",
    "\n",
    "\n",
    "df = pandas.read_csv(\"loan_borowwer_data.csv\")\n",
    "df.head()"
   ]
  },
  {
   "cell_type": "code",
   "execution_count": 49,
   "id": "e7496094-b08b-40a3-ad82-9f09fdc3da82",
   "metadata": {},
   "outputs": [
    {
     "name": "stdout",
     "output_type": "stream",
     "text": [
      "<class 'pandas.core.frame.DataFrame'>\n",
      "RangeIndex: 9578 entries, 0 to 9577\n",
      "Data columns (total 14 columns):\n",
      " #   Column             Non-Null Count  Dtype  \n",
      "---  ------             --------------  -----  \n",
      " 0   credit.policy      9578 non-null   int64  \n",
      " 1   purpose            9578 non-null   object \n",
      " 2   int.rate           9578 non-null   float64\n",
      " 3   installment        9578 non-null   float64\n",
      " 4   log.annual.inc     9578 non-null   float64\n",
      " 5   dti                9578 non-null   float64\n",
      " 6   fico               9578 non-null   int64  \n",
      " 7   days.with.cr.line  9578 non-null   float64\n",
      " 8   revol.bal          9578 non-null   int64  \n",
      " 9   revol.util         9578 non-null   float64\n",
      " 10  inq.last.6mths     9578 non-null   int64  \n",
      " 11  delinq.2yrs        9578 non-null   int64  \n",
      " 12  pub.rec            9578 non-null   int64  \n",
      " 13  not.fully.paid     9578 non-null   int64  \n",
      "dtypes: float64(6), int64(7), object(1)\n",
      "memory usage: 1.0+ MB\n"
     ]
    },
    {
     "data": {
      "text/plain": [
       "(None,\n",
       " credit.policy           2\n",
       " purpose                 7\n",
       " int.rate              249\n",
       " installment          4788\n",
       " log.annual.inc       1987\n",
       " dti                  2529\n",
       " fico                   44\n",
       " days.with.cr.line    2687\n",
       " revol.bal            7869\n",
       " revol.util           1035\n",
       " inq.last.6mths         28\n",
       " delinq.2yrs            11\n",
       " pub.rec                 6\n",
       " not.fully.paid          2\n",
       " dtype: int64)"
      ]
     },
     "execution_count": 49,
     "metadata": {},
     "output_type": "execute_result"
    }
   ],
   "source": [
    "df.info(), df.nunique()#,df.isna().sum()"
   ]
  },
  {
   "cell_type": "code",
   "execution_count": 3,
   "id": "f6cb9b99-9260-4af6-b4f2-9d7ee99effef",
   "metadata": {},
   "outputs": [
    {
     "name": "stdout",
     "output_type": "stream",
     "text": [
      "\n",
      " credit.policy\n",
      "[1 0]\n",
      "\n",
      " not.fully.paid\n",
      "[0 1]\n"
     ]
    }
   ],
   "source": [
    "for col in df.columns:\n",
    "    if (df[col].nunique() <3):\n",
    "        print(\"\\n\",col)\n",
    "        print(df[col].unique())\n"
   ]
  },
  {
   "cell_type": "code",
   "execution_count": 4,
   "id": "454ef85a-7e2c-47b6-8237-3db073e01e26",
   "metadata": {},
   "outputs": [],
   "source": [
    "target = \"not.fully.paid\"\n",
    "\n",
    "\n",
    "X = df.drop(target,axis=1)\n",
    "Y = df[target]"
   ]
  },
  {
   "cell_type": "code",
   "execution_count": 22,
   "id": "42917c85-18d3-4579-805b-76ff9eefefd1",
   "metadata": {},
   "outputs": [
    {
     "data": {
      "text/plain": [
       "0    8045\n",
       "1    1533\n",
       "Name: not.fully.paid, dtype: int64"
      ]
     },
     "execution_count": 22,
     "metadata": {},
     "output_type": "execute_result"
    }
   ],
   "source": [
    "Y.value_counts()"
   ]
  },
  {
   "cell_type": "code",
   "execution_count": 5,
   "id": "724ed712-ee0f-4b69-86f4-4674f54d48ca",
   "metadata": {},
   "outputs": [],
   "source": [
    "from sklearn.preprocessing import LabelEncoder\n",
    "labelEncoder_gender =  LabelEncoder()\n",
    "X.purpose = labelEncoder_gender.fit_transform(X.purpose)\n"
   ]
  },
  {
   "cell_type": "code",
   "execution_count": 14,
   "id": "25b134e1-cb75-4400-9a92-ef27ed247d30",
   "metadata": {},
   "outputs": [],
   "source": [
    "from sklearn.model_selection import train_test_split\n",
    "X_train, X_test, Y_train, Y_test = train_test_split(X, Y, test_size=0.25, random_state=0)"
   ]
  },
  {
   "cell_type": "code",
   "execution_count": 15,
   "id": "0b23391f-db65-495e-9950-55edc157893d",
   "metadata": {},
   "outputs": [],
   "source": [
    "from sklearn.model_selection import KFold\n",
    "from sklearn.model_selection import cross_val_score\n",
    "from sklearn.linear_model import LogisticRegression\n",
    "from sklearn.tree import DecisionTreeClassifier\n",
    "from sklearn.neighbors import KNeighborsClassifier\n",
    "from sklearn.ensemble import RandomForestClassifier\n",
    "from sklearn.naive_bayes import GaussianNB\n",
    "from sklearn.svm import SVC"
   ]
  },
  {
   "cell_type": "code",
   "execution_count": 16,
   "id": "1e90f480-797d-4d0c-9091-ab71996f9cc8",
   "metadata": {},
   "outputs": [],
   "source": [
    "classification_models = []\n",
    "classification_models.append(('Logistic Regression', LogisticRegression(solver=\"liblinear\")))\n",
    "classification_models.append(('K Nearest Neighbor', KNeighborsClassifier(n_neighbors=5, metric=\"minkowski\",p=2)))\n",
    "classification_models.append(('Kernel SVM', SVC(kernel = 'rbf',gamma='scale')))\n",
    "classification_models.append(('Naive Bayes', GaussianNB()))\n",
    "classification_models.append(('Decision Tree', DecisionTreeClassifier(criterion = \"entropy\")))\n"
   ]
  },
  {
   "cell_type": "code",
   "execution_count": 17,
   "id": "7a26cfe8-b958-4879-bccd-56882b43e290",
   "metadata": {},
   "outputs": [
    {
     "name": "stdout",
     "output_type": "stream",
     "text": [
      "Logistic Regression: Mean Accuracy = 83.93% - SD Accuracy = 0.98%\n",
      "K Nearest Neighbor: Mean Accuracy = 81.79% - SD Accuracy = 0.68%\n",
      "Kernel SVM: Mean Accuracy = 83.98% - SD Accuracy = 0.97%\n",
      "Naive Bayes: Mean Accuracy = 82.25% - SD Accuracy = 0.98%\n",
      "Decision Tree: Mean Accuracy = 74.16% - SD Accuracy = 1.15%\n"
     ]
    }
   ],
   "source": [
    "metrics = \"accuracy\"\n",
    "\n",
    "for name, model in classification_models:\n",
    "  kfold = KFold(n_splits=10, random_state=(7), shuffle=(True))\n",
    "  result = cross_val_score(model, X, Y, cv=kfold, scoring=metrics)\n",
    "  print(f\"%s: Mean {metrics.capitalize()} = %.2f%% - SD {metrics.capitalize()} = %.2f%%\" % (name, result.mean()*100, result.std()*100))"
   ]
  },
  {
   "cell_type": "code",
   "execution_count": 18,
   "id": "3b84be11-6862-46f5-b522-aedb90b0e179",
   "metadata": {},
   "outputs": [
    {
     "name": "stdout",
     "output_type": "stream",
     "text": [
      "Logistic Regression: Mean Precision = 55.14% - SD Precision = 32.63%\n",
      "K Nearest Neighbor: Mean Precision = 18.90% - SD Precision = 6.14%\n"
     ]
    },
    {
     "name": "stderr",
     "output_type": "stream",
     "text": [
      "/usr/local/lib/python3.10/site-packages/sklearn/metrics/_classification.py:1469: UndefinedMetricWarning: Precision is ill-defined and being set to 0.0 due to no predicted samples. Use `zero_division` parameter to control this behavior.\n",
      "  _warn_prf(average, modifier, msg_start, len(result))\n",
      "/usr/local/lib/python3.10/site-packages/sklearn/metrics/_classification.py:1469: UndefinedMetricWarning: Precision is ill-defined and being set to 0.0 due to no predicted samples. Use `zero_division` parameter to control this behavior.\n",
      "  _warn_prf(average, modifier, msg_start, len(result))\n",
      "/usr/local/lib/python3.10/site-packages/sklearn/metrics/_classification.py:1469: UndefinedMetricWarning: Precision is ill-defined and being set to 0.0 due to no predicted samples. Use `zero_division` parameter to control this behavior.\n",
      "  _warn_prf(average, modifier, msg_start, len(result))\n",
      "/usr/local/lib/python3.10/site-packages/sklearn/metrics/_classification.py:1469: UndefinedMetricWarning: Precision is ill-defined and being set to 0.0 due to no predicted samples. Use `zero_division` parameter to control this behavior.\n",
      "  _warn_prf(average, modifier, msg_start, len(result))\n",
      "/usr/local/lib/python3.10/site-packages/sklearn/metrics/_classification.py:1469: UndefinedMetricWarning: Precision is ill-defined and being set to 0.0 due to no predicted samples. Use `zero_division` parameter to control this behavior.\n",
      "  _warn_prf(average, modifier, msg_start, len(result))\n",
      "/usr/local/lib/python3.10/site-packages/sklearn/metrics/_classification.py:1469: UndefinedMetricWarning: Precision is ill-defined and being set to 0.0 due to no predicted samples. Use `zero_division` parameter to control this behavior.\n",
      "  _warn_prf(average, modifier, msg_start, len(result))\n",
      "/usr/local/lib/python3.10/site-packages/sklearn/metrics/_classification.py:1469: UndefinedMetricWarning: Precision is ill-defined and being set to 0.0 due to no predicted samples. Use `zero_division` parameter to control this behavior.\n",
      "  _warn_prf(average, modifier, msg_start, len(result))\n",
      "/usr/local/lib/python3.10/site-packages/sklearn/metrics/_classification.py:1469: UndefinedMetricWarning: Precision is ill-defined and being set to 0.0 due to no predicted samples. Use `zero_division` parameter to control this behavior.\n",
      "  _warn_prf(average, modifier, msg_start, len(result))\n",
      "/usr/local/lib/python3.10/site-packages/sklearn/metrics/_classification.py:1469: UndefinedMetricWarning: Precision is ill-defined and being set to 0.0 due to no predicted samples. Use `zero_division` parameter to control this behavior.\n",
      "  _warn_prf(average, modifier, msg_start, len(result))\n"
     ]
    },
    {
     "name": "stdout",
     "output_type": "stream",
     "text": [
      "Kernel SVM: Mean Precision = 0.00% - SD Precision = 0.00%\n",
      "Naive Bayes: Mean Precision = 31.98% - SD Precision = 6.04%\n",
      "Decision Tree: Mean Precision = 21.17% - SD Precision = 3.39%\n"
     ]
    }
   ],
   "source": [
    "metrics = \"precision\"\n",
    "\n",
    "for name, model in classification_models:\n",
    "  kfold = KFold(n_splits=10, random_state=(7), shuffle=(True))\n",
    "  result = cross_val_score(model, X, Y, cv=kfold, scoring=metrics)\n",
    "  print(f\"%s: Mean {metrics.capitalize()} = %.2f%% - SD {metrics.capitalize()} = %.2f%%\" % (name, result.mean()*100, result.std()*100))"
   ]
  },
  {
   "cell_type": "code",
   "execution_count": 19,
   "id": "7e50fb1e-0364-4f24-bea2-7e3a0872df80",
   "metadata": {},
   "outputs": [
    {
     "name": "stdout",
     "output_type": "stream",
     "text": [
      "Logistic Regression: Mean Recall = 1.44% - SD Recall = 0.86%\n",
      "K Nearest Neighbor: Mean Recall = 4.18% - SD Recall = 1.61%\n",
      "Kernel SVM: Mean Recall = 0.00% - SD Recall = 0.00%\n",
      "Naive Bayes: Mean Recall = 9.31% - SD Recall = 1.88%\n",
      "Decision Tree: Mean Recall = 22.91% - SD Recall = 2.86%\n"
     ]
    }
   ],
   "source": [
    "metrics = \"recall\"\n",
    "\n",
    "for name, model in classification_models:\n",
    "  kfold = KFold(n_splits=10, random_state=(7), shuffle=(True))\n",
    "  result = cross_val_score(model, X, Y, cv=kfold, scoring=metrics)\n",
    "  print(f\"%s: Mean {metrics.capitalize()} = %.2f%% - SD {metrics.capitalize()} = %.2f%%\" % (name, result.mean()*100, result.std()*100))"
   ]
  },
  {
   "cell_type": "code",
   "execution_count": 31,
   "id": "787fe646-36b9-433e-bdda-4203d85496d0",
   "metadata": {},
   "outputs": [
    {
     "name": "stdout",
     "output_type": "stream",
     "text": [
      "Logistic Regression\n",
      "accuracy_score 0.8405010438413362\n",
      "precision_score 0.46153846153846156\n",
      "recall_score 0.015748031496062992 \n",
      "\n",
      "K Nearest Neighbor\n",
      "accuracy_score 0.8254697286012526\n",
      "precision_score 0.2823529411764706\n",
      "recall_score 0.06299212598425197 \n",
      "\n",
      "Kernel SVM\n",
      "accuracy_score 0.8409185803757829\n",
      "precision_score 0.0\n",
      "recall_score 0.0 \n",
      "\n",
      "Naive Bayes\n",
      "accuracy_score 0.8237995824634655\n",
      "precision_score 0.3153153153153153\n",
      "recall_score 0.09186351706036745 \n",
      "\n",
      "Decision Tree\n",
      "accuracy_score 0.7365344467640919\n",
      "precision_score 0.19362745098039216\n",
      "recall_score 0.2073490813648294 \n",
      "\n"
     ]
    },
    {
     "name": "stderr",
     "output_type": "stream",
     "text": [
      "/usr/local/lib/python3.10/site-packages/sklearn/metrics/_classification.py:1469: UndefinedMetricWarning: Precision is ill-defined and being set to 0.0 due to no predicted samples. Use `zero_division` parameter to control this behavior.\n",
      "  _warn_prf(average, modifier, msg_start, len(result))\n"
     ]
    }
   ],
   "source": [
    "from sklearn.metrics import accuracy_score, precision_score, recall_score\n",
    "\n",
    "predictions = dict()\n",
    "\n",
    "for name, model in classification_models:\n",
    "    # predictions[name] = \n",
    "    model.fit(X_train, Y_train)\n",
    "    predictions = model.predict(X_test)\n",
    "    print(name)\n",
    "    print(\"accuracy_score\",accuracy_score(Y_test, predictions))\n",
    "    print(\"precision_score\",precision_score(Y_test, predictions))\n",
    "    print(\"recall_score\",recall_score(Y_test, predictions),\"\\n\")\n",
    "\n",
    "    "
   ]
  },
  {
   "cell_type": "markdown",
   "id": "b89f786b-6ef4-41cc-88d1-3ac2d5c1bb0d",
   "metadata": {},
   "source": [
    "# Ensemble "
   ]
  },
  {
   "cell_type": "code",
   "execution_count": 43,
   "id": "54646963-a3b3-4003-8ceb-ddebbeb004e6",
   "metadata": {},
   "outputs": [
    {
     "name": "stdout",
     "output_type": "stream",
     "text": [
      "0.8389009234232759\n",
      "0.008660327034069047\n",
      "\n",
      "\n",
      "Stochastic Gradient Boosting Classification\n",
      "accuracy_score\t:\t 0.8417536534446765\n",
      "precision_score\t:\t 0.55\n",
      "recall_score\t:\t 0.028871391076115485 \n",
      "\n"
     ]
    }
   ],
   "source": [
    "#Stochastic Gradient Boosting Classification\n",
    "import pandas\n",
    "from sklearn import model_selection\n",
    "from sklearn.ensemble import GradientBoostingClassifier\n",
    "\n",
    "seed = 7\n",
    "num_trees = 100\n",
    "kfold = model_selection.KFold(n_splits=10, random_state=seed, shuffle=True)\n",
    "model = GradientBoostingClassifier(n_estimators=num_trees, random_state=seed)\n",
    "results = model_selection.cross_val_score(model, X, Y, cv=kfold)\n",
    "print(results.mean())\n",
    "print(results.std())\n",
    "\n",
    "model.fit(X_train, Y_train)\n",
    "predictions = model.predict(X_test)\n",
    "print(\"\\n\\nStochastic Gradient Boosting Classification\")\n",
    "print(\"accuracy_score\\t:\\t\",accuracy_score(Y_test, predictions))\n",
    "print(\"precision_score\\t:\\t\",precision_score(Y_test, predictions))\n",
    "print(\"recall_score\\t:\\t\",recall_score(Y_test, predictions),\"\\n\")\n"
   ]
  },
  {
   "cell_type": "code",
   "execution_count": 42,
   "id": "2f3b21d9-ad74-46f1-a41f-6940edc946bc",
   "metadata": {},
   "outputs": [
    {
     "name": "stdout",
     "output_type": "stream",
     "text": [
      "0.8385875528737813\n",
      "0.009166532325441882\n",
      "\n",
      "\n",
      "AdaBoost Classification\n",
      "accuracy_score\t:\t 0.8400835073068893\n",
      "precision_score\t:\t 0.45454545454545453\n",
      "recall_score\t:\t 0.026246719160104987 \n",
      "\n"
     ]
    }
   ],
   "source": [
    "#AdaBoost Classification\n",
    "import pandas\n",
    "from sklearn import model_selection\n",
    "from sklearn.ensemble import AdaBoostClassifier\n",
    "\n",
    "seed = 7\n",
    "num_trees = 30\n",
    "\n",
    "kfold = model_selection.KFold(n_splits=10, random_state=seed, shuffle=True)\n",
    "model = AdaBoostClassifier(n_estimators=num_trees, random_state=seed)\n",
    "\n",
    "results = model_selection.cross_val_score(model, X, Y, cv=kfold)\n",
    "print(results.mean())\n",
    "print(results.std())\n",
    "\n",
    "\n",
    "\n",
    "model.fit(X_train, Y_train)\n",
    "predictions = model.predict(X_test)\n",
    "print(\"\\n\\nAdaBoost Classification\")\n",
    "print(\"accuracy_score\\t:\\t\",accuracy_score(Y_test, predictions))\n",
    "print(\"precision_score\\t:\\t\",precision_score(Y_test, predictions))\n",
    "print(\"recall_score\\t:\\t\",recall_score(Y_test, predictions),\"\\n\")\n",
    "\n"
   ]
  },
  {
   "cell_type": "code",
   "execution_count": 44,
   "id": "25ae4e17-9890-49ce-a44f-665b72cfa08d",
   "metadata": {},
   "outputs": [
    {
     "name": "stdout",
     "output_type": "stream",
     "text": [
      "0.8383788936808877\n",
      "0.011735244021258457\n",
      "\n",
      "\n",
      "Extra Trees Classification\n",
      "accuracy_score\t:\t 0.8379958246346555\n",
      "precision_score\t:\t 0.4222222222222222\n",
      "recall_score\t:\t 0.049868766404199474 \n",
      "\n"
     ]
    }
   ],
   "source": [
    "#Extra Trees Classification\n",
    "import pandas\n",
    "from sklearn import model_selection\n",
    "from sklearn.ensemble import ExtraTreesClassifier\n",
    "\n",
    "\n",
    "seed = 7\n",
    "num_trees = 100\n",
    "max_features = 7\n",
    "kfold = model_selection.KFold(n_splits=10, random_state=seed, shuffle=True)\n",
    "model = ExtraTreesClassifier(n_estimators=num_trees, max_features=max_features)\n",
    "results = model_selection.cross_val_score(model, X, Y, cv=kfold)\n",
    "print(results.mean())\n",
    "print(results.std())\n",
    "\n",
    "\n",
    "\n",
    "model.fit(X_train, Y_train)\n",
    "predictions = model.predict(X_test)\n",
    "print(\"\\n\\nExtra Trees Classification\")\n",
    "print(\"accuracy_score\\t:\\t\",accuracy_score(Y_test, predictions))\n",
    "print(\"precision_score\\t:\\t\",precision_score(Y_test, predictions))\n",
    "print(\"recall_score\\t:\\t\",recall_score(Y_test, predictions),\"\\n\")\n"
   ]
  },
  {
   "cell_type": "code",
   "execution_count": 45,
   "id": "098ed995-885b-4daf-ac19-32ab24bf07be",
   "metadata": {},
   "outputs": [
    {
     "name": "stdout",
     "output_type": "stream",
     "text": [
      "0.8397362146408291\n",
      "0.009444495474734704\n",
      "\n",
      "\n",
      "Random Forest Classification\n",
      "accuracy_score\t:\t 0.8409185803757829\n",
      "precision_score\t:\t 0.5\n",
      "recall_score\t:\t 0.031496062992125984 \n",
      "\n"
     ]
    }
   ],
   "source": [
    "#Random Forest Classification\n",
    "import pandas\n",
    "from sklearn import model_selection\n",
    "from sklearn.ensemble import RandomForestClassifier\n",
    "\n",
    "\n",
    "seed = 7\n",
    "num_trees = 100\n",
    "max_features = 3\n",
    "\n",
    "kfold = model_selection.KFold(n_splits=10, random_state=seed, shuffle=True)\n",
    "model = RandomForestClassifier(n_estimators=num_trees, max_features=max_features)\n",
    "results = model_selection.cross_val_score(model, X, Y, cv=kfold)\n",
    "print(results.mean())\n",
    "print(results.std())\n",
    "\n",
    "\n",
    "\n",
    "model.fit(X_train, Y_train)\n",
    "predictions = model.predict(X_test)\n",
    "print(\"\\n\\nRandom Forest Classification\")\n",
    "print(\"accuracy_score\\t:\\t\",accuracy_score(Y_test, predictions))\n",
    "print(\"precision_score\\t:\\t\",precision_score(Y_test, predictions))\n",
    "print(\"recall_score\\t:\\t\",recall_score(Y_test, predictions),\"\\n\")"
   ]
  },
  {
   "cell_type": "code",
   "execution_count": 47,
   "id": "fcca52ca-3578-432f-ae2e-f77248033512",
   "metadata": {},
   "outputs": [
    {
     "name": "stdout",
     "output_type": "stream",
     "text": [
      "0.8367084203201113\n",
      "0.009961099618106279\n",
      "\n",
      "\n",
      "Bagged Decision Trees for Classification\n",
      "accuracy_score\t:\t 0.8375782881002087\n",
      "precision_score\t:\t 0.42857142857142855\n",
      "recall_score\t:\t 0.06299212598425197 \n",
      "\n"
     ]
    }
   ],
   "source": [
    "#Bagged Decision Trees for Classification\n",
    "import pandas\n",
    "from sklearn import model_selection\n",
    "from sklearn.ensemble import BaggingClassifier\n",
    "from sklearn.tree import DecisionTreeClassifier\n",
    "\n",
    "\n",
    "seed = 7\n",
    "\n",
    "kfold = model_selection.KFold(n_splits=10, random_state=seed, shuffle=True)\n",
    "cart = DecisionTreeClassifier()\n",
    "num_trees = 100\n",
    "\n",
    "model = BaggingClassifier(estimator=cart, n_estimators=num_trees, random_state=seed)\n",
    "\n",
    "results = model_selection.cross_val_score(model, X, Y, cv=kfold)\n",
    "print(results.mean())\n",
    "print(results.std())\n",
    "\n",
    "\n",
    "\n",
    "model.fit(X_train, Y_train)\n",
    "predictions = model.predict(X_test)\n",
    "print(\"\\n\\nBagged Decision Trees for Classification\")\n",
    "print(\"accuracy_score\\t:\\t\",accuracy_score(Y_test, predictions))\n",
    "print(\"precision_score\\t:\\t\",precision_score(Y_test, predictions))\n",
    "print(\"recall_score\\t:\\t\",recall_score(Y_test, predictions),\"\\n\")"
   ]
  }
 ],
 "metadata": {
  "kernelspec": {
   "display_name": "Python 3 [3.10]",
   "language": "python",
   "name": "python3"
  },
  "language_info": {
   "codemirror_mode": {
    "name": "ipython",
    "version": 3
   },
   "file_extension": ".py",
   "mimetype": "text/x-python",
   "name": "python",
   "nbconvert_exporter": "python",
   "pygments_lexer": "ipython3",
   "version": "3.10.2"
  }
 },
 "nbformat": 4,
 "nbformat_minor": 5
}
