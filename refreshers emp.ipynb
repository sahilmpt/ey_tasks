{
 "cells": [
  {
   "cell_type": "code",
   "execution_count": 2,
   "metadata": {},
   "outputs": [
    {
     "name": "stdout",
     "output_type": "stream",
     "text": [
      "{'John': 10000, 'Mike': 4120.0, 'Stan': 6300.0, 'Harvey': 8560.0, 'Hnery': 9450.0}\n"
     ]
    }
   ],
   "source": [
    "employee=[\"John\",\"Mike\",\"Stan\",\"Harvey\",\"Hnery\"]\n",
    "salary=[10000,4000,6000,8000,9000]\n",
    "rating=[2.3,4.7,6.8,8.6,5.5]\n",
    "\n",
    "updated_salaries = {}\n",
    "\n",
    "for name,salary,rating in zip(employee,salary,rating):\n",
    "    if rating<3:\n",
    "        updated_salaries[name]=salary\n",
    "    elif rating>3 and rating<5:\n",
    "        updated_salaries[name]=salary*1.03\n",
    "    elif rating>5 and rating<7:\n",
    "        updated_salaries[name]=salary*1.05\n",
    "    elif rating>7 and rating<9:\n",
    "        updated_salaries[name]=salary*1.07\n",
    "        \n",
    "print(updated_salaries)"
   ]
  }
 ],
 "metadata": {
  "kernelspec": {
   "display_name": "Python 3",
   "language": "python",
   "name": "python3"
  },
  "language_info": {
   "codemirror_mode": {
    "name": "ipython",
    "version": 3
   },
   "file_extension": ".py",
   "mimetype": "text/x-python",
   "name": "python",
   "nbconvert_exporter": "python",
   "pygments_lexer": "ipython3",
   "version": "3.7.6"
  }
 },
 "nbformat": 4,
 "nbformat_minor": 4
}
